{
 "cells": [
  {
   "cell_type": "code",
   "execution_count": 4,
   "id": "d95441b0",
   "metadata": {},
   "outputs": [
    {
     "name": "stdout",
     "output_type": "stream",
     "text": [
      "(112, 112, 3)\n"
     ]
    }
   ],
   "source": [
    "import matplotlib.pyplot as plt\n",
    "\n",
    "url =r\"C:\\Users\\user\\Documents\\presentation day\\model\\dynamic\\a4c-video-dir\\visualise\\save\\videos\\46\\46.png\"\n",
    "\n",
    "pic = plt.imread(url)\n",
    "# print(pic.shape)"
   ]
  },
  {
   "cell_type": "code",
   "execution_count": null,
   "id": "b918a437",
   "metadata": {},
   "outputs": [],
   "source": []
  }
 ],
 "metadata": {
  "kernelspec": {
   "display_name": "Python 3 (ipykernel)",
   "language": "python",
   "name": "python3"
  },
  "language_info": {
   "codemirror_mode": {
    "name": "ipython",
    "version": 3
   },
   "file_extension": ".py",
   "mimetype": "text/x-python",
   "name": "python",
   "nbconvert_exporter": "python",
   "pygments_lexer": "ipython3",
   "version": "3.8.5"
  }
 },
 "nbformat": 4,
 "nbformat_minor": 5
}
