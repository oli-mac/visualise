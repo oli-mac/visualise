{
 "cells": [
  {
   "cell_type": "code",
   "execution_count": 31,
   "id": "913d6ee9",
   "metadata": {},
   "outputs": [],
   "source": [
    "import os\n",
    "import numpy as np\n",
    "import cv2\n",
    "from glob import glob "
   ]
  },
  {
   "cell_type": "code",
   "execution_count": 32,
   "id": "b5bd48b2",
   "metadata": {},
   "outputs": [],
   "source": [
    "def create_dir(path):\n",
    "    try:\n",
    "        if not os.path.exists(path):\n",
    "            os.makedirs(path)\n",
    "    except OSError:\n",
    "        print(f\"check yor fucking code (path)\")\n",
    "        "
   ]
  },
  {
   "cell_type": "code",
   "execution_count": 33,
   "id": "a507f011",
   "metadata": {},
   "outputs": [],
   "source": [
    "def save_frame(video_path, save_dir):\n",
    "      name = video_path.split(\"/\")[-1].split(\".\")[0]\n",
    "      save_path = os.path.join(save_dir, name)\n",
    "      create_dir(save_path)\n",
    "        \n",
    "      cap = cv2.VideoCapture(video_path)\n",
    "      idx = 0\n",
    "        \n",
    "      while True:\n",
    "        ret, frame = cap.read()\n",
    "        \n",
    "        if ret == False:\n",
    "            cap.release()\n",
    "            break\n",
    "            \n",
    "        cv2.imwrite(f\"{save_path}/{idx}.png\", frame)\n",
    "        \n",
    "        idx += 1"
   ]
  },
  {
   "cell_type": "code",
   "execution_count": 34,
   "id": "bd3fe774",
   "metadata": {},
   "outputs": [],
   "source": [
    "if __name__ == \"__main__\":\n",
    "    video_paths = glob(\"videos/*\")\n",
    "    save_dir = \"save\"\n",
    "    \n",
    "    for path in video_paths:\n",
    "        save_frame(path, save_dir)"
   ]
  },
  {
   "cell_type": "code",
   "execution_count": null,
   "id": "8da736e2",
   "metadata": {},
   "outputs": [],
   "source": []
  },
  {
   "cell_type": "code",
   "execution_count": null,
   "id": "b8ac3093",
   "metadata": {},
   "outputs": [],
   "source": []
  }
 ],
 "metadata": {
  "kernelspec": {
   "display_name": "Python 3 (ipykernel)",
   "language": "python",
   "name": "python3"
  },
  "language_info": {
   "codemirror_mode": {
    "name": "ipython",
    "version": 3
   },
   "file_extension": ".py",
   "mimetype": "text/x-python",
   "name": "python",
   "nbconvert_exporter": "python",
   "pygments_lexer": "ipython3",
   "version": "3.8.5"
  }
 },
 "nbformat": 4,
 "nbformat_minor": 5
}
